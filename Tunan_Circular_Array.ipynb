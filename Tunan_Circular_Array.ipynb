{
  "nbformat": 4,
  "nbformat_minor": 0,
  "metadata": {
    "colab": {
      "provenance": []
    },
    "kernelspec": {
      "name": "python3",
      "display_name": "Python 3"
    },
    "language_info": {
      "name": "python"
    }
  },
  "cells": [
    {
      "cell_type": "code",
      "source": [
        "def find_start(array):\n",
        "  for i in range(len(array)):\n",
        "    if array[i]==0 or array[i]==None:\n",
        "      if array[i+1]==0 or array[i+1]==None:\n",
        "        continue\n",
        "      else:\n",
        "        start=i+1\n",
        "    else:\n",
        "      continue\n",
        "  print(start)\n",
        "x=[15,-4,17,None,None,5,7,9]\n",
        "find_start(x)\n"
      ],
      "metadata": {
        "colab": {
          "base_uri": "https://localhost:8080/"
        },
        "id": "jbCVyHAPD3Y0",
        "outputId": "4c272260-be23-4faa-ae04-0a1f40d9d11a"
      },
      "execution_count": 1,
      "outputs": [
        {
          "output_type": "stream",
          "name": "stdout",
          "text": [
            "5\n"
          ]
        }
      ]
    },
    {
      "cell_type": "code",
      "source": [
        "def find_size(array):\n",
        "  count=0\n",
        "  for i in range(len(array)):\n",
        "    if array[i]==0 or array[i]==None:\n",
        "      pass\n",
        "    else:\n",
        "      count+=1\n",
        "  return count\n",
        "\n",
        "x=[15,-4,17,None,None,5,7,9]\n",
        "find_size(x)\n"
      ],
      "metadata": {
        "colab": {
          "base_uri": "https://localhost:8080/"
        },
        "id": "ndGq9gFpD6Iv",
        "outputId": "b7c2e382-f529-459f-c634-b93fe8477cad"
      },
      "execution_count": 2,
      "outputs": [
        {
          "output_type": "execute_result",
          "data": {
            "text/plain": [
              "6"
            ]
          },
          "metadata": {},
          "execution_count": 2
        }
      ]
    },
    {
      "cell_type": "code",
      "source": [
        "def find_last(array):\n",
        "    for i in range(len(array)):\n",
        "      if array[i]==0 or array[i]==None:\n",
        "        if array[i+1]==0 or array[i+1]==None:\n",
        "          end=i-1\n",
        "        else:\n",
        "          continue\n",
        "      else:\n",
        "        continue\n",
        "    print(end)\n",
        "x=[15,-4,17,None,None,5,7,9]\n",
        "find_last(x)\n"
      ],
      "metadata": {
        "colab": {
          "base_uri": "https://localhost:8080/"
        },
        "id": "hZscuTltD8ne",
        "outputId": "42a0e67e-5fbb-433b-8b86-c4db8b8bbd7d"
      },
      "execution_count": 3,
      "outputs": [
        {
          "output_type": "stream",
          "name": "stdout",
          "text": [
            "2\n"
          ]
        }
      ]
    },
    {
      "cell_type": "code",
      "source": [
        "def forward(array, start, size,end):\n",
        "  next=(start+size)%len(array)\n",
        "  for i in range(size):\n",
        "    print (array[start])\n",
        "    start=(start+1)%len(array)\n",
        "x=[15,-4,17,None,None,5,7,9]\n",
        "forward(x,5,6,2)\n"
      ],
      "metadata": {
        "colab": {
          "base_uri": "https://localhost:8080/"
        },
        "id": "lNY5pEHND_Ea",
        "outputId": "276fa604-c849-453c-8d96-e2b60201a033"
      },
      "execution_count": 4,
      "outputs": [
        {
          "output_type": "stream",
          "name": "stdout",
          "text": [
            "5\n",
            "7\n",
            "9\n",
            "15\n",
            "-4\n",
            "17\n"
          ]
        }
      ]
    },
    {
      "cell_type": "code",
      "source": [
        "def backward(array,start,size,end):\n",
        "  next=(start+size)%len(array)\n",
        "  last=next-1\n",
        "  for i in range(size):\n",
        "    print(array[last])\n",
        "    if last==0:\n",
        "      last=len(array)-1\n",
        "    else:\n",
        "      last=last-1\n",
        "x=[15,-4,17,None,None,5,7,9]\n",
        "backward(x,5,6,2)\n"
      ],
      "metadata": {
        "colab": {
          "base_uri": "https://localhost:8080/"
        },
        "id": "DCDP11t8ECtc",
        "outputId": "c7c821b8-f5cc-4b1e-df06-2dc57552cef1"
      },
      "execution_count": 5,
      "outputs": [
        {
          "output_type": "stream",
          "name": "stdout",
          "text": [
            "17\n",
            "-4\n",
            "15\n",
            "9\n",
            "7\n",
            "5\n"
          ]
        }
      ]
    },
    {
      "cell_type": "code",
      "source": [
        "def resize_circulerArray (array,start,size,end,resize):\n",
        "  a=start\n",
        "  b=start\n",
        "  new_arr=[0]*(len(array)+resize)\n",
        "  for i in range(size):\n",
        "    new_arr[b]=array[a]\n",
        "    a=(a+1)%len(array)\n",
        "    b=(b+1)%len(new_arr)\n",
        "  return new_arr\n",
        "\n",
        "x=[15,-4,17,None,None,5,7,9]\n",
        "resize_circulerArray(x,5,6,2,6)\n"
      ],
      "metadata": {
        "colab": {
          "base_uri": "https://localhost:8080/"
        },
        "id": "GvmhOBCnEFAb",
        "outputId": "ff37c035-60a1-48f1-a294-acfe6dd2ba38"
      },
      "execution_count": 6,
      "outputs": [
        {
          "output_type": "execute_result",
          "data": {
            "text/plain": [
              "[0, 0, 0, 0, 0, 5, 7, 9, 15, -4, 17, 0, 0, 0]"
            ]
          },
          "metadata": {},
          "execution_count": 6
        }
      ]
    },
    {
      "cell_type": "code",
      "source": [
        "def array_size(array):\n",
        "  free_space=0\n",
        "  size=0\n",
        "  for i in range(len(array)):\n",
        "    if array[i]==None or array[i]==0:\n",
        "      free_space=free_space+1\n",
        "    else:\n",
        "      size=size+1\n",
        "  print(f\"Free Spaces: {free_space}\")\n",
        "  print(f\"Size: {size}\")\n",
        "  return size\n",
        "\n",
        "x=[15,-4,17,None,None,5,7,9]\n",
        "array_size(x)\n"
      ],
      "metadata": {
        "colab": {
          "base_uri": "https://localhost:8080/"
        },
        "id": "nWtqLUwdEHUZ",
        "outputId": "9de52a94-fc2b-4bfd-eebd-9f67194c41fe"
      },
      "execution_count": 7,
      "outputs": [
        {
          "output_type": "stream",
          "name": "stdout",
          "text": [
            "Free Spaces: 2\n",
            "Size: 6\n"
          ]
        },
        {
          "output_type": "execute_result",
          "data": {
            "text/plain": [
              "6"
            ]
          },
          "metadata": {},
          "execution_count": 7
        }
      ]
    },
    {
      "cell_type": "code",
      "source": [
        "def insertion(array,start,size,end, ele):\n",
        "  next=(start+size)%len(array)\n",
        "  for i in range(size):\n",
        "    start=(start+1)%len(array)\n",
        "    if array[i]==None or array[i]==0:\n",
        "      array[i]=ele\n",
        "    else:\n",
        "      continue\n",
        "    return array\n",
        "\n",
        "x=[15,-4,17,None,None,5,7,9]\n",
        "print(x)\n",
        "insertion(x,5,6,2, 499)\n"
      ],
      "metadata": {
        "colab": {
          "base_uri": "https://localhost:8080/"
        },
        "id": "M8_qTnRuEJhP",
        "outputId": "9ca8567e-8f5c-4729-9257-cec1735dd10b"
      },
      "execution_count": 8,
      "outputs": [
        {
          "output_type": "stream",
          "name": "stdout",
          "text": [
            "[15, -4, 17, None, None, 5, 7, 9]\n"
          ]
        },
        {
          "output_type": "execute_result",
          "data": {
            "text/plain": [
              "[15, -4, 17, 499, None, 5, 7, 9]"
            ]
          },
          "metadata": {},
          "execution_count": 8
        }
      ]
    },
    {
      "cell_type": "code",
      "source": [
        "def insert(array, ele):\n",
        "  # next=(start+size)%len(array)\n",
        "  size=find_size(array)\n",
        "  for i in range(size):\n",
        "    # start=(start+1)%len(array)\n",
        "    if array[i]==None or array[i]==0:\n",
        "      array[i]=ele\n",
        "      return array\n",
        "    else:\n",
        "      continue\n",
        "\n",
        "x=[15,-4,17,None,None,5,7,9]\n",
        "print(x)\n",
        "insert(x, 499)\n"
      ],
      "metadata": {
        "colab": {
          "base_uri": "https://localhost:8080/"
        },
        "id": "kyBf3hi3EL40",
        "outputId": "2a99c9dc-e170-4d4c-929b-ece1da27283d"
      },
      "execution_count": 9,
      "outputs": [
        {
          "output_type": "stream",
          "name": "stdout",
          "text": [
            "[15, -4, 17, None, None, 5, 7, 9]\n"
          ]
        },
        {
          "output_type": "execute_result",
          "data": {
            "text/plain": [
              "[15, -4, 17, 499, None, 5, 7, 9]"
            ]
          },
          "metadata": {},
          "execution_count": 9
        }
      ]
    }
  ]
}